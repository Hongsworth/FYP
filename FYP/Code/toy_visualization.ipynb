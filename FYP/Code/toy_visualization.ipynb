{
 "cells": [
  {
   "cell_type": "code",
   "execution_count": 8,
   "metadata": {},
   "outputs": [
    {
     "name": "stdout",
     "output_type": "stream",
     "text": [
      "Looking in indexes: https://download.pytorch.org/whl/cu121\n",
      "Requirement already satisfied: torch in c:\\imperial\\meta-autoencoder\\.venv\\lib\\site-packages (2.2.1+cu121)\n",
      "Requirement already satisfied: torchvision in c:\\imperial\\meta-autoencoder\\.venv\\lib\\site-packages (0.17.1+cu121)\n",
      "Requirement already satisfied: torchaudio in c:\\imperial\\meta-autoencoder\\.venv\\lib\\site-packages (2.2.1+cu121)\n",
      "Requirement already satisfied: filelock in c:\\imperial\\meta-autoencoder\\.venv\\lib\\site-packages (from torch) (3.9.0)\n",
      "Requirement already satisfied: typing-extensions>=4.8.0 in c:\\imperial\\meta-autoencoder\\.venv\\lib\\site-packages (from torch) (4.8.0)\n",
      "Requirement already satisfied: sympy in c:\\imperial\\meta-autoencoder\\.venv\\lib\\site-packages (from torch) (1.12)\n",
      "Requirement already satisfied: networkx in c:\\imperial\\meta-autoencoder\\.venv\\lib\\site-packages (from torch) (3.2.1)\n",
      "Requirement already satisfied: jinja2 in c:\\imperial\\meta-autoencoder\\.venv\\lib\\site-packages (from torch) (3.1.2)\n",
      "Requirement already satisfied: fsspec in c:\\imperial\\meta-autoencoder\\.venv\\lib\\site-packages (from torch) (2023.4.0)\n",
      "Requirement already satisfied: numpy in c:\\imperial\\meta-autoencoder\\.venv\\lib\\site-packages (from torchvision) (1.26.3)\n",
      "Requirement already satisfied: pillow!=8.3.*,>=5.3.0 in c:\\imperial\\meta-autoencoder\\.venv\\lib\\site-packages (from torchvision) (10.2.0)\n",
      "Requirement already satisfied: MarkupSafe>=2.0 in c:\\imperial\\meta-autoencoder\\.venv\\lib\\site-packages (from jinja2->torch) (2.1.3)\n",
      "Requirement already satisfied: mpmath>=0.19 in c:\\imperial\\meta-autoencoder\\.venv\\lib\\site-packages (from sympy->torch) (1.3.0)\n",
      "Requirement already satisfied: tensorflow in c:\\imperial\\meta-autoencoder\\.venv\\lib\\site-packages (2.16.0rc0)\n",
      "Requirement already satisfied: matplotlib in c:\\imperial\\meta-autoencoder\\.venv\\lib\\site-packages (3.8.3)\n",
      "Collecting scipy\n",
      "  Using cached scipy-1.12.0-cp312-cp312-win_amd64.whl.metadata (60 kB)\n",
      "Requirement already satisfied: tensorflow-intel==2.16.0-rc0 in c:\\imperial\\meta-autoencoder\\.venv\\lib\\site-packages (from tensorflow) (2.16.0rc0)\n",
      "Requirement already satisfied: absl-py>=1.0.0 in c:\\imperial\\meta-autoencoder\\.venv\\lib\\site-packages (from tensorflow-intel==2.16.0-rc0->tensorflow) (2.1.0)\n",
      "Requirement already satisfied: astunparse>=1.6.0 in c:\\imperial\\meta-autoencoder\\.venv\\lib\\site-packages (from tensorflow-intel==2.16.0-rc0->tensorflow) (1.6.3)\n",
      "Requirement already satisfied: flatbuffers>=23.5.26 in c:\\imperial\\meta-autoencoder\\.venv\\lib\\site-packages (from tensorflow-intel==2.16.0-rc0->tensorflow) (23.5.26)\n",
      "Requirement already satisfied: gast!=0.5.0,!=0.5.1,!=0.5.2,>=0.2.1 in c:\\imperial\\meta-autoencoder\\.venv\\lib\\site-packages (from tensorflow-intel==2.16.0-rc0->tensorflow) (0.5.4)\n",
      "Requirement already satisfied: google-pasta>=0.1.1 in c:\\imperial\\meta-autoencoder\\.venv\\lib\\site-packages (from tensorflow-intel==2.16.0-rc0->tensorflow) (0.2.0)\n",
      "Requirement already satisfied: h5py>=3.10.0 in c:\\imperial\\meta-autoencoder\\.venv\\lib\\site-packages (from tensorflow-intel==2.16.0-rc0->tensorflow) (3.10.0)\n",
      "Requirement already satisfied: libclang>=13.0.0 in c:\\imperial\\meta-autoencoder\\.venv\\lib\\site-packages (from tensorflow-intel==2.16.0-rc0->tensorflow) (16.0.6)\n",
      "Requirement already satisfied: ml-dtypes~=0.3.1 in c:\\imperial\\meta-autoencoder\\.venv\\lib\\site-packages (from tensorflow-intel==2.16.0-rc0->tensorflow) (0.3.2)\n",
      "Requirement already satisfied: opt-einsum>=2.3.2 in c:\\imperial\\meta-autoencoder\\.venv\\lib\\site-packages (from tensorflow-intel==2.16.0-rc0->tensorflow) (3.3.0)\n",
      "Requirement already satisfied: packaging in c:\\imperial\\meta-autoencoder\\.venv\\lib\\site-packages (from tensorflow-intel==2.16.0-rc0->tensorflow) (23.2)\n",
      "Requirement already satisfied: protobuf!=4.21.0,!=4.21.1,!=4.21.2,!=4.21.3,!=4.21.4,!=4.21.5,<5.0.0dev,>=3.20.3 in c:\\imperial\\meta-autoencoder\\.venv\\lib\\site-packages (from tensorflow-intel==2.16.0-rc0->tensorflow) (4.25.3)\n",
      "Requirement already satisfied: requests<3,>=2.21.0 in c:\\imperial\\meta-autoencoder\\.venv\\lib\\site-packages (from tensorflow-intel==2.16.0-rc0->tensorflow) (2.31.0)\n",
      "Requirement already satisfied: setuptools in c:\\imperial\\meta-autoencoder\\.venv\\lib\\site-packages (from tensorflow-intel==2.16.0-rc0->tensorflow) (69.1.1)\n",
      "Requirement already satisfied: six>=1.12.0 in c:\\imperial\\meta-autoencoder\\.venv\\lib\\site-packages (from tensorflow-intel==2.16.0-rc0->tensorflow) (1.16.0)\n",
      "Requirement already satisfied: termcolor>=1.1.0 in c:\\imperial\\meta-autoencoder\\.venv\\lib\\site-packages (from tensorflow-intel==2.16.0-rc0->tensorflow) (2.4.0)\n",
      "Requirement already satisfied: typing-extensions>=3.6.6 in c:\\imperial\\meta-autoencoder\\.venv\\lib\\site-packages (from tensorflow-intel==2.16.0-rc0->tensorflow) (4.8.0)\n",
      "Requirement already satisfied: wrapt>=1.11.0 in c:\\imperial\\meta-autoencoder\\.venv\\lib\\site-packages (from tensorflow-intel==2.16.0-rc0->tensorflow) (1.16.0)\n",
      "Requirement already satisfied: grpcio<2.0,>=1.24.3 in c:\\imperial\\meta-autoencoder\\.venv\\lib\\site-packages (from tensorflow-intel==2.16.0-rc0->tensorflow) (1.62.0)\n",
      "Requirement already satisfied: tensorboard<2.17,>=2.16 in c:\\imperial\\meta-autoencoder\\.venv\\lib\\site-packages (from tensorflow-intel==2.16.0-rc0->tensorflow) (2.16.2)\n",
      "Requirement already satisfied: keras>=3.0.0 in c:\\imperial\\meta-autoencoder\\.venv\\lib\\site-packages (from tensorflow-intel==2.16.0-rc0->tensorflow) (3.0.5)\n",
      "Requirement already satisfied: numpy<2.0.0,>=1.26.0 in c:\\imperial\\meta-autoencoder\\.venv\\lib\\site-packages (from tensorflow-intel==2.16.0-rc0->tensorflow) (1.26.3)\n",
      "Requirement already satisfied: contourpy>=1.0.1 in c:\\imperial\\meta-autoencoder\\.venv\\lib\\site-packages (from matplotlib) (1.2.0)\n",
      "Requirement already satisfied: cycler>=0.10 in c:\\imperial\\meta-autoencoder\\.venv\\lib\\site-packages (from matplotlib) (0.12.1)\n",
      "Requirement already satisfied: fonttools>=4.22.0 in c:\\imperial\\meta-autoencoder\\.venv\\lib\\site-packages (from matplotlib) (4.49.0)\n",
      "Requirement already satisfied: kiwisolver>=1.3.1 in c:\\imperial\\meta-autoencoder\\.venv\\lib\\site-packages (from matplotlib) (1.4.5)\n",
      "Requirement already satisfied: pillow>=8 in c:\\imperial\\meta-autoencoder\\.venv\\lib\\site-packages (from matplotlib) (10.2.0)\n",
      "Requirement already satisfied: pyparsing>=2.3.1 in c:\\imperial\\meta-autoencoder\\.venv\\lib\\site-packages (from matplotlib) (3.1.1)\n",
      "Requirement already satisfied: python-dateutil>=2.7 in c:\\imperial\\meta-autoencoder\\.venv\\lib\\site-packages (from matplotlib) (2.9.0.post0)\n",
      "Requirement already satisfied: wheel<1.0,>=0.23.0 in c:\\imperial\\meta-autoencoder\\.venv\\lib\\site-packages (from astunparse>=1.6.0->tensorflow-intel==2.16.0-rc0->tensorflow) (0.42.0)\n",
      "Requirement already satisfied: rich in c:\\imperial\\meta-autoencoder\\.venv\\lib\\site-packages (from keras>=3.0.0->tensorflow-intel==2.16.0-rc0->tensorflow) (13.7.1)\n",
      "Requirement already satisfied: namex in c:\\imperial\\meta-autoencoder\\.venv\\lib\\site-packages (from keras>=3.0.0->tensorflow-intel==2.16.0-rc0->tensorflow) (0.0.7)\n",
      "Requirement already satisfied: dm-tree in c:\\imperial\\meta-autoencoder\\.venv\\lib\\site-packages (from keras>=3.0.0->tensorflow-intel==2.16.0-rc0->tensorflow) (0.1.8)\n",
      "Requirement already satisfied: charset-normalizer<4,>=2 in c:\\imperial\\meta-autoencoder\\.venv\\lib\\site-packages (from requests<3,>=2.21.0->tensorflow-intel==2.16.0-rc0->tensorflow) (3.3.2)\n",
      "Requirement already satisfied: idna<4,>=2.5 in c:\\imperial\\meta-autoencoder\\.venv\\lib\\site-packages (from requests<3,>=2.21.0->tensorflow-intel==2.16.0-rc0->tensorflow) (3.6)\n",
      "Requirement already satisfied: urllib3<3,>=1.21.1 in c:\\imperial\\meta-autoencoder\\.venv\\lib\\site-packages (from requests<3,>=2.21.0->tensorflow-intel==2.16.0-rc0->tensorflow) (2.2.1)\n",
      "Requirement already satisfied: certifi>=2017.4.17 in c:\\imperial\\meta-autoencoder\\.venv\\lib\\site-packages (from requests<3,>=2.21.0->tensorflow-intel==2.16.0-rc0->tensorflow) (2024.2.2)\n",
      "Requirement already satisfied: markdown>=2.6.8 in c:\\imperial\\meta-autoencoder\\.venv\\lib\\site-packages (from tensorboard<2.17,>=2.16->tensorflow-intel==2.16.0-rc0->tensorflow) (3.5.2)\n",
      "Requirement already satisfied: tensorboard-data-server<0.8.0,>=0.7.0 in c:\\imperial\\meta-autoencoder\\.venv\\lib\\site-packages (from tensorboard<2.17,>=2.16->tensorflow-intel==2.16.0-rc0->tensorflow) (0.7.2)\n",
      "Requirement already satisfied: werkzeug>=1.0.1 in c:\\imperial\\meta-autoencoder\\.venv\\lib\\site-packages (from tensorboard<2.17,>=2.16->tensorflow-intel==2.16.0-rc0->tensorflow) (3.0.1)\n",
      "Requirement already satisfied: MarkupSafe>=2.1.1 in c:\\imperial\\meta-autoencoder\\.venv\\lib\\site-packages (from werkzeug>=1.0.1->tensorboard<2.17,>=2.16->tensorflow-intel==2.16.0-rc0->tensorflow) (2.1.3)\n",
      "Requirement already satisfied: markdown-it-py>=2.2.0 in c:\\imperial\\meta-autoencoder\\.venv\\lib\\site-packages (from rich->keras>=3.0.0->tensorflow-intel==2.16.0-rc0->tensorflow) (3.0.0)\n",
      "Requirement already satisfied: pygments<3.0.0,>=2.13.0 in c:\\imperial\\meta-autoencoder\\.venv\\lib\\site-packages (from rich->keras>=3.0.0->tensorflow-intel==2.16.0-rc0->tensorflow) (2.17.2)\n",
      "Requirement already satisfied: mdurl~=0.1 in c:\\imperial\\meta-autoencoder\\.venv\\lib\\site-packages (from markdown-it-py>=2.2.0->rich->keras>=3.0.0->tensorflow-intel==2.16.0-rc0->tensorflow) (0.1.2)\n",
      "Using cached scipy-1.12.0-cp312-cp312-win_amd64.whl (45.8 MB)\n",
      "Installing collected packages: scipy\n",
      "Successfully installed scipy-1.12.0\n"
     ]
    }
   ],
   "source": [
    "!pip3 install torch torchvision torchaudio --index-url https://download.pytorch.org/whl/cu121\n",
    "!pip install tensorflow matplotlib scipy"
   ]
  },
  {
   "cell_type": "code",
   "execution_count": 26,
   "metadata": {},
   "outputs": [],
   "source": [
    "import torch\n",
    "import argparse\n",
    "from data_gen.data_set import message_gen, channel_set_gen\n",
    "from training.train import test_training\n",
    "from training.test import test_per_channel_per_snr\n",
    "from nets.auto_encoder import dnn\n",
    "from torch.utils.tensorboard import SummaryWriter\n",
    "from nets.auto_encoder_for_vis import dnn_vis\n",
    "from training.meta_train import multi_task_learning\n",
    "import pickle\n",
    "import matplotlib.pyplot as plt\n",
    "import scipy.io as sio\n",
    "import datetime\n",
    "import numpy\n",
    "import os"
   ]
  },
  {
   "cell_type": "code",
   "execution_count": 27,
   "metadata": {},
   "outputs": [
    {
     "data": {
      "text/plain": [
       "_StoreTrueAction(option_strings=['--if_adam_after_sgd'], dest='if_adam_after_sgd', nargs=0, const=True, default=False, type=None, choices=None, required=False, help=None, metavar=None)"
      ]
     },
     "execution_count": 27,
     "metadata": {},
     "output_type": "execute_result"
    }
   ],
   "source": [
    "parser = argparse.ArgumentParser(description='end_to_end-meta')\n",
    "\n",
    "# bit num (k), channel uses (n), tap number (L), number of pilots (P), Eb/N0\n",
    "parser.add_argument('--bit_num', type=int, default=4, help='number of bits')\n",
    "parser.add_argument('--channel_num', type=int, default=4, help='number of channel uses')\n",
    "parser.add_argument('--tap_num', type=int, default=3, help='..')\n",
    "parser.add_argument('--mb_size', type=int, default=16, help='minibatch size')\n",
    "parser.add_argument('--mb_size_meta_train', type=int, default=16,\n",
    "                    help='minibatch size during meta-training (this can be useful for decreasing pilots)')\n",
    "parser.add_argument('--mb_size_meta_test', type=int, default=16,\n",
    "                    help='minibatch size for query set (this can be useful for decreasing pilots)')\n",
    "parser.add_argument('--Eb_over_N_db', type=float, default=15,\n",
    "                    help='energy per bit to noise power spectral density ratio')\n",
    "\n",
    "# paths\n",
    "parser.add_argument('--path_for_common_dir', dest='path_for_common_dir',\n",
    "                    default='default_folder/default_subfolder/', type=str)\n",
    "parser.add_argument('--path_for_meta_training_channels', dest='path_for_meta_training_channels', default=None,\n",
    "                    type=str)\n",
    "parser.add_argument('--path_for_test_channels', dest='path_for_test_channels', default=None, type=str)\n",
    "parser.add_argument('--path_for_meta_trained_net', dest='path_for_meta_trained_net', default=None, type=str)\n",
    "\n",
    "# neural network architecture (number of neurons for hidden layer)\n",
    "parser.add_argument('--num_neurons_encoder', type=int, default=None, help='number of neuron in hidden layer in encoder')\n",
    "parser.add_argument('--num_neurons_decoder', type=int, default=None, help='number of neuron in hidden layer in decoder')\n",
    "# whether to use bias and relu (if not relu: tanh)\n",
    "parser.add_argument('--if_not_bias', dest='if_bias', action='store_false', default=True)\n",
    "parser.add_argument('--if_not_relu', dest='if_relu', action='store_false', default=True)\n",
    "# RTN\n",
    "parser.add_argument('--if_RTN', dest='if_RTN', action='store_true', default=False)\n",
    "# in case of running on gpu, index for cuda device\n",
    "parser.add_argument('--cuda_ind', type=int, default=0, help='index for cuda device')\n",
    "\n",
    "# experiment details (hyperparameters, number of data for calculating performance and for meta-training\n",
    "parser.add_argument('--lr_testtraining', type=float, default=0.001, help='lr for adaptation to new channel')\n",
    "parser.add_argument('--lr_meta_update', type=float, default=0.01, help='lr during meta-training: outer loop (update initialization) lr')\n",
    "parser.add_argument('--lr_meta_inner', type=float, default=0.1, help='lr during meta-training: inner loop (local adaptation) lr')\n",
    "parser.add_argument('--test_size', type=int, default=1000000, help='number of messages to calculate BLER for test (new channel)')\n",
    "parser.add_argument('--num_channels_meta', type=int, default=100, help='number of meta-training channels (K)')\n",
    "parser.add_argument('--num_channels_test', type=int, default=20, help='number of new channels for test (to get average over BLER)')\n",
    "parser.add_argument('--tasks_per_metaupdate', type=int, default=20, help='number of meta-training channels considered in one meta-update')\n",
    "parser.add_argument('--num_meta_local_updates', type=int, default=1, help='number of local adaptation in meta-training')\n",
    "parser.add_argument('--num_epochs_meta_train', type=int, default=10000,\n",
    "                    help='number epochs for meta-training')\n",
    "\n",
    "# if run for joint training, if false: meta-learning\n",
    "parser.add_argument('--if_joint_training', dest='if_joint_training', action='store_true', default=False) # else: meta-learning for multi-task learning\n",
    "# whether to use Adam optimizer to adapt to a new channel\n",
    "parser.add_argument('--if_not_test_training_adam', dest='if_test_training_adam', action='store_false',\n",
    "                    default=True)\n",
    "# if run on toy example (Fig. 2 and 3)\n",
    "parser.add_argument('--if_toy', dest='if_toy', action='store_true',\n",
    "                    default=False)\n",
    "# to run on a more realistic example (Fig. 4)\n",
    "parser.add_argument('--if_RBF', dest='if_RBF', action='store_true',\n",
    "                    default=False)\n",
    "parser.add_argument('--test_per_adapt_fixed_Eb_over_N_value', type=int, default=15,\n",
    "                    help='Eb/N0 in db for test')\n",
    "# desinged for maml: sgd during args.num_meta_local_updates with args.lr_meta_inner and then follow Adam optimizer with args.lr_testtraining\n",
    "parser.add_argument('--if_adam_after_sgd', dest='if_adam_after_sgd', action='store_true',\n",
    "                    default=False)"
   ]
  },
  {
   "cell_type": "code",
   "execution_count": 28,
   "metadata": {},
   "outputs": [],
   "source": [
    "# common setting for toy\n",
    "run_script = \"--if_toy --num_epochs_meta_train 0 --path_for_common_dir toy/jupyter/\"\n"
   ]
  },
  {
   "cell_type": "code",
   "execution_count": 29,
   "metadata": {},
   "outputs": [
    {
     "name": "stdout",
     "output_type": "stream",
     "text": [
      "running for toy scenario\n",
      "Running on device: cuda:0\n"
     ]
    }
   ],
   "source": [
    "if __name__ == '__main__':\n",
    "    args = parser.parse_args(run_script.split())\n",
    "    args.device = torch.device(\"cuda:\" + str(args.cuda_ind) if torch.cuda.is_available() else \"cpu\")\n",
    "    if args.num_neurons_encoder == None: # unless specified, set number of hidden neurons to be same as the number of possible messages\n",
    "        args.num_neurons_encoder = pow(2,args.bit_num)\n",
    "    if args.num_neurons_decoder == None:\n",
    "        args.num_neurons_decoder = pow(2, args.bit_num)\n",
    "\n",
    "    if args.if_test_training_adam == False:\n",
    "        args.if_adam_after_sgd = False\n",
    "\n",
    "    if args.if_toy == True:\n",
    "        print('running for toy scenario')\n",
    "        args.bit_num = 2\n",
    "        args.channel_num = 1\n",
    "        args.tap_num = 1\n",
    "        args.mb_size = 4\n",
    "        args.mb_size_meta_train = 4\n",
    "        args.mb_size_meta_test = 4\n",
    "        args.num_channels_meta = 20\n",
    "        args.num_neurons_encoder = 4\n",
    "        args.num_neurons_decoder = 4\n",
    "    elif args.if_RBF == True:\n",
    "        print('running for a more realistic scenario')\n",
    "        args.bit_num = 4\n",
    "        args.channel_num = 4\n",
    "        args.tap_num = 3\n",
    "        args.mb_size = 16\n",
    "        args.mb_size_meta_train = 16\n",
    "        args.mb_size_meta_test = 16\n",
    "        args.num_channels_meta = 100\n",
    "        args.num_neurons_encoder = 16\n",
    "        args.num_neurons_decoder = 16\n",
    "    else:\n",
    "        print('running on custom environment')\n",
    "    print('Running on device: {}'.format(args.device))"
   ]
  },
  {
   "cell_type": "code",
   "execution_count": 30,
   "metadata": {},
   "outputs": [
    {
     "name": "stdout",
     "output_type": "stream",
     "text": [
      "generate meta-training channels\n",
      "start meta-training\n",
      "generate test channels\n",
      "used test channels [tensor([0.7071, 0.7071]), tensor([-0.7071,  0.7071]), tensor([0.7071, 0.7071]), tensor([-0.7071,  0.7071]), tensor([0.7071, 0.7071]), tensor([-0.7071,  0.7071]), tensor([0.7071, 0.7071]), tensor([-0.7071,  0.7071]), tensor([0.7071, 0.7071]), tensor([-0.7071,  0.7071]), tensor([0.7071, 0.7071]), tensor([-0.7071,  0.7071]), tensor([0.7071, 0.7071]), tensor([-0.7071,  0.7071]), tensor([0.7071, 0.7071]), tensor([-0.7071,  0.7071]), tensor([0.7071, 0.7071]), tensor([-0.7071,  0.7071]), tensor([0.7071, 0.7071]), tensor([-0.7071,  0.7071])]\n"
     ]
    }
   ],
   "source": [
    "    curr_time = datetime.datetime.now().strftime(\"%Y_%m_%d_%H_%M_%S\")\n",
    "    common_dir = './' + args.path_for_common_dir + curr_time + '/'\n",
    "\n",
    "    PATH_before_adapt = common_dir + 'saved_model/' + 'before_adapt/' + 'init_net'\n",
    "    PATH_meta_intermediate = common_dir + 'saved_model/' + 'during_meta_training/' + 'epochs/'\n",
    "\n",
    "    os.makedirs(common_dir + 'saved_model/' + 'before_adapt/')\n",
    "    os.makedirs(common_dir + 'saved_model/' + 'after_adapt/')\n",
    "    os.makedirs(PATH_meta_intermediate)\n",
    "\n",
    "    os.makedirs(common_dir + 'meta_training_channels/')\n",
    "    os.makedirs(common_dir + 'test_channels/')\n",
    "    os.makedirs(common_dir + 'test_result/')\n",
    "\n",
    "    dir_meta_training = common_dir + 'TB/' + 'meta_training'\n",
    "    writer_meta_training = SummaryWriter(dir_meta_training)\n",
    "    dir_during_adapt = common_dir + 'TB/' + 'during_adapt/'\n",
    "\n",
    "    test_Eb_over_N_range = [args.test_per_adapt_fixed_Eb_over_N_value]\n",
    "    test_adapt_range = [0, 1, 2, 5, 10, 100, 200, 1000, 10000]\n",
    "\n",
    "    if len(test_Eb_over_N_range) > 1:\n",
    "        assert len(test_adapt_range) == 1\n",
    "    if len(test_adapt_range) > 1:\n",
    "        assert len(test_Eb_over_N_range) == 1\n",
    "\n",
    "    test_result_all_PATH = common_dir + 'test_result/' + 'test_result.mat'\n",
    "    save_test_result_dict = {}\n",
    "\n",
    "    actual_channel_num = args.channel_num * 2\n",
    "\n",
    "    net = dnn(M=pow(2, args.bit_num), num_neurons_encoder=args.num_neurons_encoder, n=actual_channel_num, n_inv_filter = args.tap_num,\n",
    "              num_neurons_decoder=args.num_neurons_decoder, if_bias=args.if_bias, if_relu=args.if_relu, if_RTN=args.if_RTN)\n",
    "    if torch.cuda.is_available():\n",
    "        net = net.to(args.device)\n",
    "    net_for_testtraining = dnn(M=pow(2, args.bit_num), num_neurons_encoder=args.num_neurons_encoder, n=actual_channel_num, n_inv_filter = args.tap_num,\n",
    "              num_neurons_decoder=args.num_neurons_decoder, if_bias=args.if_bias, if_relu=args.if_relu, if_RTN=args.if_RTN)\n",
    "    if torch.cuda.is_available():\n",
    "        net_for_testtraining = net_for_testtraining.to(args.device)\n",
    "    net_for_vis = dnn(M=pow(2, args.bit_num), num_neurons_encoder=args.num_neurons_encoder, n=actual_channel_num,\n",
    "              n_inv_filter = args.tap_num,\n",
    "              num_neurons_decoder=args.num_neurons_decoder, if_bias=args.if_bias,\n",
    "              if_relu=args.if_relu, if_RTN=args.if_RTN)\n",
    "    if torch.cuda.is_available():\n",
    "        net_for_vis = net_for_vis.to(args.device)\n",
    "\n",
    "    Eb_over_N = pow(10, (args.Eb_over_N_db/10))\n",
    "    R = args.bit_num/args.channel_num\n",
    "    noise_var = 1 / (2 * R * Eb_over_N)\n",
    "    Noise = torch.distributions.multivariate_normal.MultivariateNormal(torch.zeros(actual_channel_num), noise_var * torch.eye(actual_channel_num))\n",
    "    if args.path_for_meta_training_channels is None:\n",
    "        print('generate meta-training channels')\n",
    "        h_list_meta = channel_set_gen(args.num_channels_meta, args.tap_num, args.if_toy)\n",
    "        h_list_meta_path = common_dir + 'meta_training_channels/' + 'training_channels.pckl'\n",
    "        f_meta_channels = open(h_list_meta_path, 'wb')\n",
    "        pickle.dump(h_list_meta, f_meta_channels)\n",
    "        f_meta_channels.close()\n",
    "    else:\n",
    "        print('load previously generated channels')\n",
    "        h_list_meta_path = args.path_for_meta_training_channels + '/' + 'training_channels.pckl'\n",
    "        f_meta_channels = open(h_list_meta_path, 'rb')\n",
    "        h_list_meta = pickle.load(f_meta_channels)\n",
    "        f_meta_channels.close()\n",
    "\n",
    "    if args.path_for_meta_trained_net is None:\n",
    "        if args.if_joint_training:\n",
    "            print('start joint training')\n",
    "        else:\n",
    "            print('start meta-training')\n",
    "        multi_task_learning(args, net, h_list_meta, writer_meta_training, Noise)\n",
    "        torch.save(net.state_dict(), PATH_before_adapt)\n",
    "    else:\n",
    "        PATH_before_adapt = args.path_for_meta_trained_net\n",
    "\n",
    "    if args.path_for_test_channels is None:\n",
    "        print('generate test channels')\n",
    "        h_list_test = channel_set_gen(args.num_channels_test, args.tap_num, args.if_toy)\n",
    "        h_list_test_path = common_dir + 'test_channels/' + 'test_channels.pckl'\n",
    "        f_test_channels = open(h_list_test_path, 'wb')\n",
    "        pickle.dump(h_list_test, f_test_channels)\n",
    "        f_test_channels.close()\n",
    "    else:\n",
    "        print('load previously generated channels')\n",
    "        h_list_test_path = args.path_for_test_channels + '/' + 'test_channels.pckl'\n",
    "        f_test_channels = open(h_list_test_path, 'rb')\n",
    "        h_list_test = pickle.load(f_test_channels)\n",
    "        f_test_channels.close()\n",
    "\n",
    "    if len(h_list_test) > args.num_channels_test:\n",
    "        h_list_test = h_list_test[:args.num_channels_test]\n",
    "    print('used test channels', h_list_test)"
   ]
  },
  {
   "cell_type": "code",
   "execution_count": 31,
   "metadata": {},
   "outputs": [],
   "source": [
    "num_adapt = 1 # training iteration number\n",
    "ind_channel = 0 # index of channel (wheter phase pi/4 (even idx) or 3pi/4 (odd idx))\n",
    "if_RTN = False # need to change this in order to switch between vanilla (False) and autoencoder with RTN (True)"
   ]
  },
  {
   "cell_type": "code",
   "execution_count": 32,
   "metadata": {},
   "outputs": [],
   "source": [
    "### vanilla\n",
    "# meta\n",
    "PATH_before_adapt_meta_vanilla = 'saved_data/toy/nets/vanilla/meta/init_net'\n",
    "PATH_after_adapt_meta_vanilla = 'saved_data/toy/after_adapted_to_new_channels_nets/vanilla/meta/after_adapt/' + str(num_adapt) + '_adapt_steps/' + str(ind_channel) + 'th_adapted_net' \n",
    "\n",
    "### with rtn\n",
    "# meta\n",
    "PATH_before_adapt_meta_rtn = 'saved_data/toy/nets/with_RTN/meta/init_net'\n",
    "PATH_after_adapt_meta_rtn = 'saved_data/toy/after_adapted_to_new_channels_nets/with_RTN/meta/after_adapt/' + str(num_adapt) + '_adapt_steps/' + str(ind_channel) + 'th_adapted_net' \n"
   ]
  },
  {
   "cell_type": "code",
   "execution_count": 33,
   "metadata": {},
   "outputs": [],
   "source": [
    "# choose appropriate path for visualization\n",
    "current_PATH = PATH_before_adapt_meta_vanilla\n",
    "#current_PATH = PATH_after_adapt_meta_vanilla\n",
    "#current_PATH = PATH_before_adapt_meta_rtn\n",
    "#current_PATH = PATH_after_adapt_meta_rtn\n",
    " \n",
    "net_for_vis = dnn_vis(M=pow(2, args.bit_num), num_neurons_encoder=args.num_neurons_encoder, n=actual_channel_num, n_inv_filter = args.tap_num,\n",
    "              num_neurons_decoder=args.num_neurons_decoder, if_bias=args.if_bias, if_relu=args.if_relu, if_RTN=if_RTN)\n",
    "if torch.cuda.is_available():\n",
    "    net_for_vis = net_for_vis.to(args.device)\n"
   ]
  },
  {
   "cell_type": "code",
   "execution_count": 34,
   "metadata": {},
   "outputs": [
    {
     "data": {
      "text/plain": [
       "<All keys matched successfully>"
      ]
     },
     "execution_count": 34,
     "metadata": {},
     "output_type": "execute_result"
    }
   ],
   "source": [
    "# load saved autoencoder\n",
    "net_for_vis.load_state_dict(torch.load(current_PATH))\n"
   ]
  },
  {
   "cell_type": "code",
   "execution_count": 35,
   "metadata": {},
   "outputs": [],
   "source": [
    "def message_gen_tmp(k, mb_size):\n",
    "    tot_message_num = pow(2,k)\n",
    "    m = torch.zeros(mb_size, tot_message_num)\n",
    "    label = torch.zeros(mb_size)\n",
    "    for ind_mb in range(mb_size):\n",
    "        if ind_mb % tot_message_num == 0:\n",
    "            pass\n",
    "            #rand_lst = torch.randperm(tot_message_num) # remove randomness for simpleness.\n",
    "        ind_one_rand_lst = ind_mb % tot_message_num\n",
    "        ind_one = ind_one_rand_lst\n",
    "        m[ind_mb, ind_one] = 1\n",
    "        label[ind_mb] = ind_one\n",
    "    return m, label"
   ]
  },
  {
   "cell_type": "code",
   "execution_count": 36,
   "metadata": {},
   "outputs": [],
   "source": [
    "# visualizing constellation points\n",
    "\n",
    "num_datapoints_transmitted = 1000\n",
    "h = h_list_test[ind_channel]\n",
    "artificial_input = None # for decision region, now should be None\n",
    "m_test, label_test = message_gen_tmp(args.bit_num, num_datapoints_transmitted)\n",
    "m_test = m_test.type(torch.FloatTensor).to(args.device)\n",
    "label_test = label_test.type(torch.LongTensor).to(args.device)\n",
    "net_for_vis.zero_grad()\n",
    "out_test, modulated_symbol, received_signal = net_for_vis(m_test, h, Noise, args.device,if_RTN, artificial_input)\n"
   ]
  },
  {
   "cell_type": "code",
   "execution_count": 37,
   "metadata": {},
   "outputs": [
    {
     "name": "stdout",
     "output_type": "stream",
     "text": [
      "h tensor([0.7071, 0.7071])\n"
     ]
    }
   ],
   "source": [
    "print('h', h)\n",
    "modulated_symbol = modulated_symbol.data.cpu().numpy()\n",
    "m_test = m_test.data.cpu().numpy()\n",
    "received_signal = received_signal.data.cpu().numpy()"
   ]
  },
  {
   "cell_type": "code",
   "execution_count": null,
   "metadata": {},
   "outputs": [],
   "source": []
  },
  {
   "cell_type": "code",
   "execution_count": 38,
   "metadata": {},
   "outputs": [
    {
     "data": {
      "image/png": "[encoded data removed]",
      "text/plain": [
       "<Figure size 600x600 with 1 Axes>"
      ]
     },
     "metadata": {},
     "output_type": "display_data"
    }
   ],
   "source": [
    "\n",
    "fig, ax = plt.subplots(figsize=(6,6))\n",
    "xmin = -1.5\n",
    "xmax = 1.5\n",
    "ymin = -1.5\n",
    "ymax = 1.5\n",
    "ax.set_xlim([xmin,xmax])\n",
    "ax.set_ylim([ymin,ymax])\n",
    "color_list = ['r', 'g', 'b', 'k']\n",
    "for j in range(num_datapoints_transmitted):\n",
    "    c_ind = j%4\n",
    "    ax.scatter(modulated_symbol[j,0], modulated_symbol[j,1], c=color_list[c_ind], label = m_test[c_ind], s = 1000)\n",
    "ax.grid(True)\n",
    "plt.title('constellation points')\n",
    "plt.show()\n"
   ]
  },
  {
   "cell_type": "code",
   "execution_count": 39,
   "metadata": {},
   "outputs": [
    {
     "data": {
      "image/png": "[encoded data removed]",
      "text/plain": [
       "<Figure size 600x600 with 1 Axes>"
      ]
     },
     "metadata": {},
     "output_type": "display_data"
    }
   ],
   "source": [
    "fig, ax = plt.subplots(figsize=(6,6))\n",
    "xmin = -1.5\n",
    "xmax = 1.5\n",
    "ymin = -1.5\n",
    "ymax = 1.5\n",
    "ax.set_xlim([xmin,xmax])\n",
    "ax.set_ylim([ymin,ymax])\n",
    "color_list = ['r', 'g', 'b', 'k']\n",
    "for j in range(num_datapoints_transmitted):\n",
    "    c_ind = j%4\n",
    "    ax.scatter(received_signal[j,0], received_signal[j,1], c=color_list[c_ind], label = m_test[c_ind])\n",
    "ax.grid(True)\n",
    "plt.title('received signal')\n",
    "plt.show()\n"
   ]
  },
  {
   "cell_type": "code",
   "execution_count": null,
   "metadata": {},
   "outputs": [],
   "source": []
  },
  {
   "cell_type": "code",
   "execution_count": 40,
   "metadata": {},
   "outputs": [
    {
     "data": {
      "image/png": "[encoded data removed]",
      "text/plain": [
       "<Figure size 600x600 with 1 Axes>"
      ]
     },
     "metadata": {},
     "output_type": "display_data"
    }
   ],
   "source": [
    "# generating artificial recieved signal for visualizing decision region\n",
    "num_data_points = 100\n",
    "artificial_input = torch.zeros(num_data_points*num_data_points,2)\n",
    "\n",
    "real_min = -1.5\n",
    "real_max = 1.5\n",
    "im_min = -1.5\n",
    "im_max = 1.5\n",
    "\n",
    "for real_input in range(num_data_points):\n",
    "    for im_input in range(num_data_points):\n",
    "        artificial_input[real_input*num_data_points+im_input,0] = ((real_max-real_min)/(num_data_points-1)) * real_input + real_min\n",
    "        artificial_input[real_input*num_data_points+im_input,1] = ((im_max-im_min)/(num_data_points-1)) * im_input + im_min\n",
    "fig, ax = plt.subplots(figsize=(6,6))\n",
    "xmin = -1.5\n",
    "xmax = 1.5\n",
    "ymin = -1.5\n",
    "ymax = 1.5\n",
    "ax.set_xlim([xmin,xmax])\n",
    "ax.set_ylim([ymin,ymax])\n",
    "ax.scatter(artificial_input[:,0], artificial_input[:,1])\n",
    "plt.title('artificial received signal')\n",
    "ax.grid(True)\n",
    "plt.show()"
   ]
  },
  {
   "cell_type": "code",
   "execution_count": 41,
   "metadata": {},
   "outputs": [
    {
     "ename": "NameError",
     "evalue": "name 'm_ref' is not defined",
     "output_type": "error",
     "traceback": [
      "\u001b[1;31m---------------------------------------------------------------------------\u001b[0m",
      "\u001b[1;31mNameError\u001b[0m                                 Traceback (most recent call last)",
      "Cell \u001b[1;32mIn[41], line 19\u001b[0m\n\u001b[0;32m     17\u001b[0m \u001b[38;5;28;01mfor\u001b[39;00m ind_datapoints \u001b[38;5;129;01min\u001b[39;00m \u001b[38;5;28mrange\u001b[39m(num_data_points\u001b[38;5;241m*\u001b[39mnum_data_points):\n\u001b[0;32m     18\u001b[0m     ind_max \u001b[38;5;241m=\u001b[39m torch\u001b[38;5;241m.\u001b[39margmax(out_test[ind_datapoints])\u001b[38;5;241m.\u001b[39mdata\u001b[38;5;241m.\u001b[39mcpu()\u001b[38;5;241m.\u001b[39mnumpy()\n\u001b[1;32m---> 19\u001b[0m     ax\u001b[38;5;241m.\u001b[39mscatter(artificial_input[ind_datapoints, \u001b[38;5;241m0\u001b[39m], artificial_input[ind_datapoints, \u001b[38;5;241m1\u001b[39m], c\u001b[38;5;241m=\u001b[39mcolor_list[ind_max], label \u001b[38;5;241m=\u001b[39m \u001b[43mm_ref\u001b[49m[ind_max])\n\u001b[0;32m     20\u001b[0m plt\u001b[38;5;241m.\u001b[39mtitle(\u001b[38;5;124m'\u001b[39m\u001b[38;5;124mdecision region\u001b[39m\u001b[38;5;124m'\u001b[39m)\n\u001b[0;32m     21\u001b[0m ax\u001b[38;5;241m.\u001b[39mgrid(\u001b[38;5;28;01mTrue\u001b[39;00m)\n",
      "\u001b[1;31mNameError\u001b[0m: name 'm_ref' is not defined"
     ]
    },
    {
     "data": {
      "image/png": "[encoded data removed]",
      "text/plain": [
       "<Figure size 600x600 with 1 Axes>"
      ]
     },
     "metadata": {},
     "output_type": "display_data"
    }
   ],
   "source": [
    "fig, ax = plt.subplots(figsize=(6,6))\n",
    "xmin = -1.5\n",
    "xmax = 1.5\n",
    "ymin = -1.5\n",
    "ymax = 1.5\n",
    "ax.set_xlim([xmin,xmax])\n",
    "ax.set_ylim([ymin,ymax])\n",
    "\n",
    "artificial_input = artificial_input.type(torch.FloatTensor).to(args.device)\n",
    "\n",
    "m_test, label_test = message_gen_tmp(args.bit_num, num_data_points*num_data_points)\n",
    "m_test = m_test.type(torch.FloatTensor).to(args.device)\n",
    "label_test = label_test.type(torch.LongTensor).to(args.device)\n",
    "out_test, modulated_symbol, received_signal = net_for_vis(m_test, h, Noise, args.device, if_RTN, artificial_input)\n",
    "artificial_input = artificial_input.data.cpu().numpy()\n",
    "color_list = ['r', 'g', 'b', 'k']\n",
    "for ind_datapoints in range(num_data_points*num_data_points):\n",
    "    ind_max = torch.argmax(out_test[ind_datapoints]).data.cpu().numpy()\n",
    "    ax.scatter(artificial_input[ind_datapoints, 0], artificial_input[ind_datapoints, 1], c=color_list[ind_max], label = m_ref[ind_max])\n",
    "plt.title('decision region')\n",
    "ax.grid(True)\n",
    "plt.show()"
   ]
  },
  {
   "cell_type": "code",
   "execution_count": null,
   "metadata": {},
   "outputs": [],
   "source": []
  },
  {
   "cell_type": "code",
   "execution_count": null,
   "metadata": {},
   "outputs": [],
   "source": []
  },
  {
   "cell_type": "code",
   "execution_count": null,
   "metadata": {},
   "outputs": [],
   "source": []
  },
  {
   "cell_type": "code",
   "execution_count": null,
   "metadata": {},
   "outputs": [],
   "source": []
  },
  {
   "cell_type": "code",
   "execution_count": null,
   "metadata": {},
   "outputs": [],
   "source": []
  }
 ],
 "metadata": {
  "kernelspec": {
   "display_name": "Python 3",
   "language": "python",
   "name": "python3"
  },
  "language_info": {
   "codemirror_mode": {
    "name": "ipython",
    "version": 3
   },
   "file_extension": ".py",
   "mimetype": "text/x-python",
   "name": "python",
   "nbconvert_exporter": "python",
   "pygments_lexer": "ipython3",
   "version": "3.12.0"
  }
 },
 "nbformat": 4,
 "nbformat_minor": 2
}
